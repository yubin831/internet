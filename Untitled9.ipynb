{
  "nbformat": 4,
  "nbformat_minor": 0,
  "metadata": {
    "colab": {
      "provenance": [],
      "authorship_tag": "ABX9TyMKASe/W7EqeyAAu/hw//A2",
      "include_colab_link": true
    },
    "kernelspec": {
      "name": "python3",
      "display_name": "Python 3"
    },
    "language_info": {
      "name": "python"
    }
  },
  "cells": [
    {
      "cell_type": "markdown",
      "metadata": {
        "id": "view-in-github",
        "colab_type": "text"
      },
      "source": [
        "<a href=\"https://colab.research.google.com/github/yubin831/internet/blob/main/Untitled9.ipynb\" target=\"_parent\"><img src=\"https://colab.research.google.com/assets/colab-badge.svg\" alt=\"Open In Colab\"/></a>"
      ]
    },
    {
      "cell_type": "code",
      "execution_count": 12,
      "metadata": {
        "colab": {
          "base_uri": "https://localhost:8080/"
        },
        "id": "QN8aQYhCOVr0",
        "outputId": "e4aad70e-3dca-4526-ee5c-92462e1d04ae"
      },
      "outputs": [
        {
          "output_type": "stream",
          "name": "stdout",
          "text": [
            "Requirement already satisfied: paho-mqtt in /usr/local/lib/python3.10/dist-packages (2.0.0)\n"
          ]
        }
      ],
      "source": [
        "!pip install paho-mqtt"
      ]
    },
    {
      "cell_type": "code",
      "source": [
        "import json\n",
        "import requests\n",
        "n=0\n",
        "\n",
        "def doit(topic, payload):\n",
        "  global n\n",
        "  print(topic, payload)\n",
        "  j=json.loads(payload)\n",
        "  #print(j['co2'])\n",
        "  #url='https://api.thingspeak.com/update?api_key=MBXHFKNOS3NTXOGA'\n",
        "  url='https://api.thingspeak.com/update?api_key=VPZACSQ6B4O0X5WA'\n",
        "  url +='&field1='+j['co2']\n",
        "  url +='&field2='+j['bme680'].split(',')[0]\n",
        "  if n>15:\n",
        "    r=requests.get(url)\n",
        "    print(url, r.text)\n",
        "    n=0\n",
        "  n+=1"
      ],
      "metadata": {
        "id": "TRo0OMltCYW0"
      },
      "execution_count": 13,
      "outputs": []
    },
    {
      "cell_type": "code",
      "source": [
        "import paho.mqtt.client as mqtt\n",
        "\n",
        "def on_connect(client, userdata, flags, reason_code, properties):\n",
        "    print(f\"Connected with result code {reason_code}\")\n",
        "    client.subscribe(\"connectware/indoor/data/1502\")\n",
        "\n",
        "def on_message(client, userdata, msg):\n",
        "    doit(msg.topic, msg.payload.decode('utf8'))\n",
        "\n",
        "client = mqtt.Client(mqtt.CallbackAPIVersion.VERSION2)\n",
        "client.on_connect = on_connect\n",
        "client.on_message = on_message\n",
        "\n",
        "client.connect(\"damoa.io\", 1883, 60)\n",
        "client.loop_forever()"
      ],
      "metadata": {
        "colab": {
          "base_uri": "https://localhost:8080/"
        },
        "id": "i9OzuE8SUTRv",
        "outputId": "a545cc97-2cfa-4b9a-f333-77a8e2aaeb77"
      },
      "execution_count": null,
      "outputs": [
        {
          "output_type": "stream",
          "name": "stdout",
          "text": [
            "Connected with result code Success\n",
            "connectware/indoor/data/1502 {\"dust\":\"29,42\",\"co2\":\"562\",\"bme680\":\"23.67,18.47,1477777,101030,24.67\",\"time\":\"2024-04-07 23:57:59\", \"serial\":285395, \"ip\":\"203.255.190.49\"}\n",
            "connectware/indoor/data/1502 {\"dust\":\"29,42\",\"co2\":\"562\",\"bme680\":\"23.67,18.48,1486033,101029,24.67\",\"time\":\"2024-04-07 23:58:00\", \"serial\":285396, \"ip\":\"203.255.190.49\"}\n",
            "connectware/indoor/data/1502 {\"dust\":\"29,42\",\"co2\":\"562\",\"bme680\":\"23.67,18.47,1484375,101029,24.67\",\"time\":\"2024-04-07 23:58:01\", \"serial\":285397, \"ip\":\"203.255.190.49\"}\n",
            "connectware/indoor/data/1502 {\"dust\":\"29,42\",\"co2\":\"562\",\"bme680\":\"23.67,18.47,1474501,101028,24.76\",\"time\":\"2024-04-07 23:58:02\", \"serial\":285398, \"ip\":\"203.255.190.49\"}\n",
            "connectware/indoor/data/1502 {\"dust\":\"29,38\",\"co2\":\"562\",\"bme680\":\"23.67,18.47,1476137,101027,24.84\",\"time\":\"2024-04-07 23:58:03\", \"serial\":285399, \"ip\":\"203.255.190.49\"}\n",
            "connectware/indoor/data/1502 {\"dust\":\"29,36\",\"co2\":\"561\",\"bme680\":\"23.67,18.48,1482720,101028,24.76\",\"time\":\"2024-04-07 23:58:04\", \"serial\":285400, \"ip\":\"203.255.190.49\"}\n",
            "connectware/indoor/data/1502 {\"dust\":\"29,36\",\"co2\":\"562\",\"bme680\":\"23.67,18.49,1477777,101027,24.84\",\"time\":\"2024-04-07 23:58:05\", \"serial\":285401, \"ip\":\"203.255.190.49\"}\n",
            "connectware/indoor/data/1502 {\"dust\":\"28,35\",\"co2\":\"561\",\"bme680\":\"23.67,18.49,1484375,101028,24.76\",\"time\":\"2024-04-07 23:58:06\", \"serial\":285402, \"ip\":\"203.255.190.49\"}\n",
            "connectware/indoor/data/1502 {\"dust\":\"28,35\",\"co2\":\"562\",\"bme680\":\"23.67,18.48,1477777,101028,24.76\",\"time\":\"2024-04-07 23:58:07\", \"serial\":285403, \"ip\":\"203.255.190.49\"}\n",
            "connectware/indoor/data/1502 {\"dust\":\"29,35\",\"co2\":\"562\",\"bme680\":\"23.67,18.48,1479421,101027,24.84\",\"time\":\"2024-04-07 23:58:08\", \"serial\":285404, \"ip\":\"203.255.190.49\"}\n",
            "connectware/indoor/data/1502 {\"dust\":\"29,35\",\"co2\":\"562\",\"bme680\":\"23.67,18.48,1482720,101028,24.84\",\"time\":\"2024-04-07 23:58:09\", \"serial\":285405, \"ip\":\"203.255.190.49\"}\n",
            "connectware/indoor/data/1502 {\"dust\":\"29,35\",\"co2\":\"562\",\"bme680\":\"23.67,18.48,1477777,101027,24.84\",\"time\":\"2024-04-07 23:58:10\", \"serial\":285406, \"ip\":\"203.255.190.49\"}\n",
            "connectware/indoor/data/1502 {\"dust\":\"29,35\",\"co2\":\"562\",\"bme680\":\"23.67,18.49,1482720,101027,24.84\",\"time\":\"2024-04-07 23:58:11\", \"serial\":285407, \"ip\":\"203.255.190.49\"}\n",
            "connectware/indoor/data/1502 {\"dust\":\"29,35\",\"co2\":\"562\",\"bme680\":\"23.67,18.47,1491031,101028,24.84\",\"time\":\"2024-04-07 23:58:12\", \"serial\":285408, \"ip\":\"203.255.190.49\"}\n",
            "connectware/indoor/data/1502 {\"dust\":\"29,32\",\"co2\":\"562\",\"bme680\":\"23.67,18.48,1484375,101027,24.76\",\"time\":\"2024-04-07 23:58:13\", \"serial\":285409, \"ip\":\"203.255.190.49\"}\n",
            "connectware/indoor/data/1502 {\"dust\":\"29,32\",\"co2\":\"562\",\"bme680\":\"23.67,18.50,1482720,101029,24.67\",\"time\":\"2024-04-07 23:58:14\", \"serial\":285410, \"ip\":\"203.255.190.49\"}\n",
            "connectware/indoor/data/1502 {\"dust\":\"31,34\",\"co2\":\"562\",\"bme680\":\"23.67,18.48,1486033,101028,24.76\",\"time\":\"2024-04-07 23:58:15\", \"serial\":285411, \"ip\":\"203.255.190.49\"}\n",
            "https://api.thingspeak.com/update?api_key=VPZACSQ6B4O0X5WA&field1=562&field2=23.67 0\n",
            "connectware/indoor/data/1502 {\"dust\":\"31,34\",\"co2\":\"562\",\"bme680\":\"23.67,18.48,1469613,101027,24.76\",\"time\":\"2024-04-07 23:58:16\", \"serial\":285412, \"ip\":\"203.255.190.49\"}\n",
            "connectware/indoor/data/1502 {\"dust\":\"31,34\",\"co2\":\"563\",\"bme680\":\"23.67,18.49,1479421,101028,24.76\",\"time\":\"2024-04-07 23:58:17\", \"serial\":285413, \"ip\":\"203.255.190.49\"}\n",
            "connectware/indoor/data/1502 {\"dust\":\"31,34\",\"co2\":\"563\",\"bme680\":\"23.67,18.50,1487695,101027,24.76\",\"time\":\"2024-04-07 23:58:18\", \"serial\":285414, \"ip\":\"203.255.190.49\"}\n",
            "connectware/indoor/data/1502 {\"dust\":\"31,34\",\"co2\":\"562\",\"bme680\":\"23.67,18.49,1487695,101027,24.84\",\"time\":\"2024-04-07 23:58:19\", \"serial\":285415, \"ip\":\"203.255.190.49\"}\n",
            "connectware/indoor/data/1502 {\"dust\":\"32,34\",\"co2\":\"562\",\"bme680\":\"23.67,18.50,1486033,101027,24.76\",\"time\":\"2024-04-07 23:58:20\", \"serial\":285416, \"ip\":\"203.255.190.49\"}\n",
            "connectware/indoor/data/1502 {\"dust\":\"32,34\",\"co2\":\"562\",\"bme680\":\"23.67,18.50,1476137,101027,24.84\",\"time\":\"2024-04-07 23:58:21\", \"serial\":285417, \"ip\":\"203.255.190.49\"}\n",
            "connectware/indoor/data/1502 {\"dust\":\"31,34\",\"co2\":\"562\",\"bme680\":\"23.67,18.49,1484375,101029,24.67\",\"time\":\"2024-04-07 23:58:22\", \"serial\":285418, \"ip\":\"203.255.190.49\"}\n",
            "connectware/indoor/data/1502 {\"dust\":\"29,33\",\"co2\":\"562\",\"bme680\":\"23.67,18.50,1484375,101028,24.76\",\"time\":\"2024-04-07 23:58:23\", \"serial\":285419, \"ip\":\"203.255.190.49\"}\n",
            "connectware/indoor/data/1502 {\"dust\":\"29,33\",\"co2\":\"562\",\"bme680\":\"23.67,18.50,1481069,101028,24.76\",\"time\":\"2024-04-07 23:58:24\", \"serial\":285420, \"ip\":\"203.255.190.49\"}\n",
            "connectware/indoor/data/1502 {\"dust\":\"29,30\",\"co2\":\"562\",\"bme680\":\"23.67,18.50,1497747,101029,24.67\",\"time\":\"2024-04-07 23:58:25\", \"serial\":285421, \"ip\":\"203.255.190.49\"}\n",
            "connectware/indoor/data/1502 {\"dust\":\"29,30\",\"co2\":\"562\",\"bme680\":\"23.67,18.50,1481069,101029,24.67\",\"time\":\"2024-04-07 23:58:26\", \"serial\":285422, \"ip\":\"203.255.190.49\"}\n",
            "connectware/indoor/data/1502 {\"dust\":\"29,32\",\"co2\":\"562\",\"bme680\":\"23.67,18.49,1486033,101028,24.76\",\"time\":\"2024-04-07 23:58:27\", \"serial\":285423, \"ip\":\"203.255.190.49\"}\n",
            "connectware/indoor/data/1502 {\"dust\":\"29,32\",\"co2\":\"562\",\"bme680\":\"23.67,18.49,1474501,101028,24.76\",\"time\":\"2024-04-07 23:58:28\", \"serial\":285424, \"ip\":\"203.255.190.49\"}\n",
            "connectware/indoor/data/1502 {\"dust\":\"29,32\",\"co2\":\"562\",\"bme680\":\"23.67,18.49,1492704,101028,24.76\",\"time\":\"2024-04-07 23:58:29\", \"serial\":285425, \"ip\":\"203.255.190.49\"}\n",
            "connectware/indoor/data/1502 {\"dust\":\"30,33\",\"co2\":\"562\",\"bme680\":\"23.67,18.50,1482720,101027,24.84\",\"time\":\"2024-04-07 23:58:30\", \"serial\":285426, \"ip\":\"203.255.190.49\"}\n",
            "connectware/indoor/data/1502 {\"dust\":\"30,33\",\"co2\":\"562\",\"bme680\":\"23.67,18.49,1484375,101027,24.76\",\"time\":\"2024-04-07 23:58:31\", \"serial\":285427, \"ip\":\"203.255.190.49\"}\n",
            "https://api.thingspeak.com/update?api_key=VPZACSQ6B4O0X5WA&field1=562&field2=23.67 0\n",
            "connectware/indoor/data/1502 {\"dust\":\"29,32\",\"co2\":\"562\",\"bme680\":\"23.67,18.50,1487695,101028,24.76\",\"time\":\"2024-04-07 23:58:32\", \"serial\":285428, \"ip\":\"203.255.190.49\"}\n",
            "connectware/indoor/data/1502 {\"dust\":\"28,31\",\"co2\":\"562\",\"bme680\":\"23.67,18.50,1486033,101027,24.84\",\"time\":\"2024-04-07 23:58:33\", \"serial\":285429, \"ip\":\"203.255.190.49\"}\n",
            "connectware/indoor/data/1502 {\"dust\":\"28,31\",\"co2\":\"562\",\"bme680\":\"23.67,18.50,1491031,101028,24.76\",\"time\":\"2024-04-07 23:58:34\", \"serial\":285430, \"ip\":\"203.255.190.49\"}\n",
            "connectware/indoor/data/1502 {\"dust\":\"27,30\",\"co2\":\"562\",\"bme680\":\"23.67,18.51,1482720,101028,24.84\",\"time\":\"2024-04-07 23:58:35\", \"serial\":285431, \"ip\":\"203.255.190.49\"}\n",
            "connectware/indoor/data/1502 {\"dust\":\"27,30\",\"co2\":\"562\",\"bme680\":\"23.67,18.51,1489361,101028,24.67\",\"time\":\"2024-04-07 23:58:36\", \"serial\":285432, \"ip\":\"203.255.190.49\"}\n",
            "connectware/indoor/data/1502 {\"dust\":\"27,30\",\"co2\":\"562\",\"bme680\":\"23.67,18.50,1489361,101029,24.67\",\"time\":\"2024-04-07 23:58:37\", \"serial\":285433, \"ip\":\"203.255.190.49\"}\n",
            "connectware/indoor/data/1502 {\"dust\":\"27,30\",\"co2\":\"562\",\"bme680\":\"23.67,18.51,1489361,101029,24.59\",\"time\":\"2024-04-07 23:58:38\", \"serial\":285434, \"ip\":\"203.255.190.49\"}\n",
            "connectware/indoor/data/1502 {\"dust\":\"28,30\",\"co2\":\"562\",\"bme680\":\"23.67,18.50,1487695,101029,24.67\",\"time\":\"2024-04-07 23:58:39\", \"serial\":285435, \"ip\":\"203.255.190.49\"}\n",
            "connectware/indoor/data/1502 {\"dust\":\"28,30\",\"co2\":\"562\",\"bme680\":\"23.67,18.50,1489361,101029,24.76\",\"time\":\"2024-04-07 23:58:40\", \"serial\":285436, \"ip\":\"203.255.190.49\"}\n",
            "connectware/indoor/data/1502 {\"dust\":\"27,29\",\"co2\":\"562\",\"bme680\":\"23.67,18.50,1477777,101027,24.76\",\"time\":\"2024-04-07 23:58:41\", \"serial\":285437, \"ip\":\"203.255.190.49\"}\n",
            "connectware/indoor/data/1502 {\"dust\":\"29,35\",\"co2\":\"562\",\"bme680\":\"23.67,18.50,1492704,101028,24.76\",\"time\":\"2024-04-07 23:58:42\", \"serial\":285438, \"ip\":\"203.255.190.49\"}\n",
            "connectware/indoor/data/1502 {\"dust\":\"29,35\",\"co2\":\"562\",\"bme680\":\"23.67,18.50,1481069,101028,24.76\",\"time\":\"2024-04-07 23:58:43\", \"serial\":285439, \"ip\":\"203.255.190.49\"}\n",
            "connectware/indoor/data/1502 {\"dust\":\"29,34\",\"co2\":\"561\",\"bme680\":\"23.67,18.50,1479421,101028,24.76\",\"time\":\"2024-04-07 23:58:44\", \"serial\":285440, \"ip\":\"203.255.190.49\"}\n",
            "connectware/indoor/data/1502 {\"dust\":\"30,35\",\"co2\":\"561\",\"bme680\":\"23.67,18.51,1489361,101028,24.76\",\"time\":\"2024-04-07 23:58:45\", \"serial\":285441, \"ip\":\"203.255.190.49\"}\n",
            "connectware/indoor/data/1502 {\"dust\":\"30,34\",\"co2\":\"561\",\"bme680\":\"23.67,18.51,1477777,101028,24.76\",\"time\":\"2024-04-07 23:58:46\", \"serial\":285442, \"ip\":\"203.255.190.49\"}\n",
            "connectware/indoor/data/1502 {\"dust\":\"29,33\",\"co2\":\"561\",\"bme680\":\"23.67,18.51,1491031,101030,24.59\",\"time\":\"2024-04-07 23:58:47\", \"serial\":285443, \"ip\":\"203.255.190.49\"}\n",
            "https://api.thingspeak.com/update?api_key=VPZACSQ6B4O0X5WA&field1=561&field2=23.67 0\n",
            "connectware/indoor/data/1502 {\"dust\":\"29,33\",\"co2\":\"561\",\"bme680\":\"23.67,18.50,1486033,101030,24.59\",\"time\":\"2024-04-07 23:58:48\", \"serial\":285444, \"ip\":\"203.255.190.49\"}\n",
            "connectware/indoor/data/1502 {\"dust\":\"29,33\",\"co2\":\"561\",\"bme680\":\"23.67,18.50,1477777,101029,24.67\",\"time\":\"2024-04-07 23:58:49\", \"serial\":285445, \"ip\":\"203.255.190.49\"}\n",
            "connectware/indoor/data/1502 {\"dust\":\"29,33\",\"co2\":\"561\",\"bme680\":\"23.67,18.50,1484375,101029,24.76\",\"time\":\"2024-04-07 23:58:50\", \"serial\":285446, \"ip\":\"203.255.190.49\"}\n"
          ]
        }
      ]
    }
  ]
}