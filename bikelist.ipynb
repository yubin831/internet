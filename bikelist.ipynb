{
  "nbformat": 4,
  "nbformat_minor": 0,
  "metadata": {
    "colab": {
      "provenance": [],
      "authorship_tag": "ABX9TyORQM7FNdn23xMelb2KOHHd",
      "include_colab_link": true
    },
    "kernelspec": {
      "name": "python3",
      "display_name": "Python 3"
    },
    "language_info": {
      "name": "python"
    }
  },
  "cells": [
    {
      "cell_type": "markdown",
      "metadata": {
        "id": "view-in-github",
        "colab_type": "text"
      },
      "source": [
        "<a href=\"https://colab.research.google.com/github/yubin831/internet/blob/main/bikelist.ipynb\" target=\"_parent\"><img src=\"https://colab.research.google.com/assets/colab-badge.svg\" alt=\"Open In Colab\"/></a>"
      ]
    },
    {
      "cell_type": "code",
      "execution_count": 21,
      "metadata": {
        "colab": {
          "base_uri": "https://localhost:8080/"
        },
        "id": "_HDdRExyMPfj",
        "outputId": "c030d37a-aaa2-4c54-c639-b7eb2ab066c7"
      },
      "outputs": [
        {
          "output_type": "stream",
          "name": "stdout",
          "text": [
            "{'rentBikeStatus': {'list_total_count': 5, 'RESULT': {'CODE': 'INFO-000', 'MESSAGE': '정상 처리되었습니다.'}, 'row': [{'rackTotCnt': '15', 'stationName': '102. 망원역 1번출구 앞', 'parkingBikeTotCnt': '32', 'shared': '213', 'stationLatitude': '37.55564880', 'stationLongitude': '126.91062927', 'stationId': 'ST-4'}, {'rackTotCnt': '14', 'stationName': '103. 망원역 2번출구 앞', 'parkingBikeTotCnt': '15', 'shared': '107', 'stationLatitude': '37.55495071', 'stationLongitude': '126.91083527', 'stationId': 'ST-5'}, {'rackTotCnt': '13', 'stationName': '104. 합정역 1번출구 앞', 'parkingBikeTotCnt': '6', 'shared': '46', 'stationLatitude': '37.55073929', 'stationLongitude': '126.91508484', 'stationId': 'ST-6'}, {'rackTotCnt': '5', 'stationName': '105. 합정역 5번출구 앞', 'parkingBikeTotCnt': '7', 'shared': '140', 'stationLatitude': '37.55000687', 'stationLongitude': '126.91482544', 'stationId': 'ST-7'}, {'rackTotCnt': '12', 'stationName': '106. 합정역 7번출구 앞', 'parkingBikeTotCnt': '23', 'shared': '192', 'stationLatitude': '37.54864502', 'stationLongitude': '126.91282654', 'stationId': 'ST-8'}]}}\n"
          ]
        }
      ],
      "source": [
        "import requests\n",
        "\n",
        "response = requests.get('http://openapi.seoul.go.kr:8088/sample/json/bikeList/1/5/')\n",
        "print(response.json())\n",
        "j=response.json()"
      ]
    },
    {
      "cell_type": "code",
      "source": [
        "for x in j['rentBikeStatus']['row']:\n",
        "    print(x['stationName'], x['shared'])"
      ],
      "metadata": {
        "colab": {
          "base_uri": "https://localhost:8080/"
        },
        "id": "zfgjEmjJUKkt",
        "outputId": "be0027ba-2138-4e42-e0ef-6238ace1b403"
      },
      "execution_count": 22,
      "outputs": [
        {
          "output_type": "stream",
          "name": "stdout",
          "text": [
            "102. 망원역 1번출구 앞 213\n",
            "103. 망원역 2번출구 앞 107\n",
            "104. 합정역 1번출구 앞 46\n",
            "105. 합정역 5번출구 앞 140\n",
            "106. 합정역 7번출구 앞 192\n"
          ]
        }
      ]
    },
    {
      "cell_type": "code",
      "source": [],
      "metadata": {
        "id": "7XDbkf9rcFO2"
      },
      "execution_count": null,
      "outputs": []
    }
  ]
}